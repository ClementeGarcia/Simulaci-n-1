{
  "nbformat": 4,
  "nbformat_minor": 0,
  "metadata": {
    "colab": {
      "provenance": [],
      "authorship_tag": "ABX9TyPQtyj6BmwvOPcOFObTfPi4",
      "include_colab_link": true
    },
    "kernelspec": {
      "name": "python3",
      "display_name": "Python 3"
    },
    "language_info": {
      "name": "python"
    }
  },
  "cells": [
    {
      "cell_type": "markdown",
      "metadata": {
        "id": "view-in-github",
        "colab_type": "text"
      },
      "source": [
        "<a href=\"https://colab.research.google.com/github/ClementeGarcia/Simulaci-n-1/blob/main/Monte_Carlo.ipynb\" target=\"_parent\"><img src=\"https://colab.research.google.com/assets/colab-badge.svg\" alt=\"Open In Colab\"/></a>"
      ]
    },
    {
      "cell_type": "markdown",
      "source": [
        "Método de Monte Carlo\n",
        "\n",
        "El método de Monte Carlo es una técnica computacional que utiliza muestreo aleatorio para obtener resultados numéricos en problemas matemáticos complejos. Su nombre proviene del famoso casino de Monte Carlo, debido al elemento de aleatoriedad involucrado.\n",
        "\n",
        "El método se basa en:\n",
        "\n",
        "1. Ley de los Grandes Números: A medida que el número de muestras aumenta, el promedio de los resultados converge al valor esperado.\n",
        "2. Teorema del Límite Central: La distribución del promedio muestral tiende a una distribución normal alrededor de la media verdadera.\n",
        "\n",
        "**Implementación:**\n",
        "\n",
        "- Representar el problema como un modelo probabilístico\n",
        "\n",
        "- Generar muestras aleatorias del modelo\n",
        "\n",
        "- Calcular estadísticas a partir de estas muestras\n",
        "\n",
        "Este código implementa el método de Monte Carlo para estimar el área bajo la curva de la función\n",
        "\n",
        "$ f(x) = \\sqrt{arctan(x)}$\n",
        "\n",
        "entre 0 y 1\n"
      ],
      "metadata": {
        "id": "TfGpwiXCKYD-"
      }
    },
    {
      "cell_type": "code",
      "source": [
        "import random #Genera números aleatorios\n",
        "import matplotlib.pyplot as plt #Graficar\n",
        "import numpy as np  #Operaciones matemáticas y arreglos\n",
        "\n",
        "\n"
      ],
      "metadata": {
        "id": "ktxBQVnlLBNU"
      },
      "execution_count": 90,
      "outputs": []
    },
    {
      "cell_type": "markdown",
      "source": [
        "**Función objetivo**\n",
        "\n",
        "Esta es la función cuya área queremos determinar."
      ],
      "metadata": {
        "id": "O7afZa2lPm7I"
      }
    },
    {
      "cell_type": "code",
      "source": [
        "def f(x):\n",
        "      return np.sqrt(np.arctan(x))"
      ],
      "metadata": {
        "id": "A0i3GFYILSmn"
      },
      "execution_count": 68,
      "outputs": []
    },
    {
      "cell_type": "markdown",
      "source": [
        "- El valor real de la integral es aproximadamente: 0.6295\n",
        "\n",
        "- El Método de Monte Carlo dará una estimación cercana a este valor\n",
        "\n",
        "- A mayor n, mejor será la aproximación"
      ],
      "metadata": {
        "id": "ZD-ZYJfXUOv9"
      }
    },
    {
      "cell_type": "code",
      "source": [
        "from scipy.integrate import quad\n",
        "def f(x):\n",
        "    return np.sqrt(np.arctan(x))\n",
        "valor, error = quad(f, 0, 1)\n",
        "print(f\"Valor de la integral: {valor:.5f}\")"
      ],
      "metadata": {
        "id": "lrRtxK4LTjSi",
        "outputId": "2b6babe8-b6e8-44b9-af77-d0c44026a243",
        "colab": {
          "base_uri": "https://localhost:8080/"
        }
      },
      "execution_count": 98,
      "outputs": [
        {
          "output_type": "stream",
          "name": "stdout",
          "text": [
            "Valor de la integral: 0.62982\n"
          ]
        }
      ]
    },
    {
      "cell_type": "markdown",
      "source": [
        "Genera un array de 400 puntos espaciados uniformemente entre 0 y 1"
      ],
      "metadata": {
        "id": "EvpF7J6aP4pI"
      }
    },
    {
      "cell_type": "code",
      "source": [
        "x = np.linspace(0,1,400)\n",
        "y =f(x)"
      ],
      "metadata": {
        "id": "FlLGstrpLuNz"
      },
      "execution_count": 96,
      "outputs": []
    },
    {
      "cell_type": "code",
      "source": [
        "f(1)"
      ],
      "metadata": {
        "colab": {
          "base_uri": "https://localhost:8080/"
        },
        "id": "P3BmXfiqLaOZ",
        "outputId": "13cf8494-0c54-46ee-908a-e380cff985a5"
      },
      "execution_count": 97,
      "outputs": [
        {
          "output_type": "execute_result",
          "data": {
            "text/plain": [
              "np.float64(0.8862269254527579)"
            ]
          },
          "metadata": {},
          "execution_count": 97
        }
      ]
    },
    {
      "cell_type": "code",
      "source": [
        "u1 = random.random() # x aleatorioa en [0,1]\n",
        "u2 = random.random() # y aleatorio en [0,1]"
      ],
      "metadata": {
        "id": "oCVk-mv2L3-k"
      },
      "execution_count": 84,
      "outputs": []
    },
    {
      "cell_type": "code",
      "source": [
        "def dardo1(n):\n",
        "    exitos = 0 #Conatdor\n",
        "    for i in range(n):\n",
        "        u1 = random.random()\n",
        "        u2 = random.random()\n",
        "        if  u2 <= f(u1):# Condición si se encuentra debajo de la curva\n",
        "             exitos+=1\n",
        "    prob = exitos/n  #Probabilidad de punto bajo la curva\n",
        "    return prob"
      ],
      "metadata": {
        "id": "yhVtay9-MBAP"
      },
      "execution_count": 94,
      "outputs": []
    },
    {
      "cell_type": "code",
      "source": [
        "dardo1(100)"
      ],
      "metadata": {
        "colab": {
          "base_uri": "https://localhost:8080/"
        },
        "id": "9zCKYicNMFh5",
        "outputId": "2c947022-7199-445f-e0f7-df90f44f3c58"
      },
      "execution_count": 95,
      "outputs": [
        {
          "output_type": "execute_result",
          "data": {
            "text/plain": [
              "0.66"
            ]
          },
          "metadata": {},
          "execution_count": 95
        }
      ]
    },
    {
      "cell_type": "code",
      "source": [
        "plt.plot(x,y)\n",
        "plt.axhline(1, color=\"red\")\n",
        "plt.axvline(f(1), color = \"red\")\n",
        "plt.scatter(u1,u2, color= \"green\")"
      ],
      "metadata": {
        "colab": {
          "base_uri": "https://localhost:8080/",
          "height": 447
        },
        "id": "H5Ud6TjeMNNw",
        "outputId": "aca7e880-107a-49f3-bb64-ec131cb6492c"
      },
      "execution_count": 87,
      "outputs": [
        {
          "output_type": "execute_result",
          "data": {
            "text/plain": [
              "<matplotlib.collections.PathCollection at 0x7b102351ccd0>"
            ]
          },
          "metadata": {},
          "execution_count": 87
        },
        {
          "output_type": "display_data",
          "data": {
            "text/plain": [
              "<Figure size 640x480 with 1 Axes>"
            ],
            "image/png": "[encoded data removed]"
          },
          "metadata": {}
        }
      ]
    },
    {
      "cell_type": "code",
      "source": [
        "def experimento(m):\n",
        "    lista = []\n",
        "    for i in range(m):\n",
        "        d = dardo1(i+1)\n",
        "        lista.append(d)\n",
        "    return lista"
      ],
      "metadata": {
        "id": "vMiXoD2dMbSo"
      },
      "execution_count": 88,
      "outputs": []
    },
    {
      "cell_type": "code",
      "source": [
        "L = experimento(3000) # Realiza 3000 estimaciones progresivas"
      ],
      "metadata": {
        "id": "JbrBEW55Md3Y"
      },
      "execution_count": 89,
      "outputs": []
    },
    {
      "cell_type": "code",
      "source": [
        "plt.plot(L)"
      ],
      "metadata": {
        "colab": {
          "base_uri": "https://localhost:8080/",
          "height": 447
        },
        "id": "qtkRUJslMgNb",
        "outputId": "7e3b3054-45f2-44bb-f09e-c30bb6fd69b6"
      },
      "execution_count": 36,
      "outputs": [
        {
          "output_type": "execute_result",
          "data": {
            "text/plain": [
              "[<matplotlib.lines.Line2D at 0x7b1050692450>]"
            ]
          },
          "metadata": {},
          "execution_count": 36
        },
        {
          "output_type": "display_data",
          "data": {
            "text/plain": [
              "<Figure size 640x480 with 1 Axes>"
            ],
            "image/png": "[encoded data removed]"
          },
          "metadata": {}
        }
      ]
    },
    {
      "cell_type": "code",
      "source": [
        "print(np.mean(L)) #Promedio de todas las estimacones"
      ],
      "metadata": {
        "colab": {
          "base_uri": "https://localhost:8080/"
        },
        "id": "_qMzLGYsMkPx",
        "outputId": "026b08b8-4d67-493a-ce85-fd993e5aa30a"
      },
      "execution_count": 37,
      "outputs": [
        {
          "output_type": "stream",
          "name": "stdout",
          "text": [
            "0.6294884288545072\n"
          ]
        }
      ]
    },
    {
      "cell_type": "code",
      "source": [
        "print(L[-1]) #Ultima estimación con n = 3000"
      ],
      "metadata": {
        "colab": {
          "base_uri": "https://localhost:8080/"
        },
        "id": "LpiorwdfMmgE",
        "outputId": "bdc2e84a-835d-4f3f-e39d-223694f28dbe"
      },
      "execution_count": 38,
      "outputs": [
        {
          "output_type": "stream",
          "name": "stdout",
          "text": [
            "0.6396666666666667\n"
          ]
        }
      ]
    }
  ]
}