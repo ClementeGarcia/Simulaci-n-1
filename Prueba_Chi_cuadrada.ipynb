{
  "nbformat": 4,
  "nbformat_minor": 0,
  "metadata": {
    "colab": {
      "provenance": [],
      "authorship_tag": "ABX9TyM20XDZthaTgLuiTaqoOYsq",
      "include_colab_link": true
    },
    "kernelspec": {
      "name": "python3",
      "display_name": "Python 3"
    },
    "language_info": {
      "name": "python"
    }
  },
  "cells": [
    {
      "cell_type": "markdown",
      "metadata": {
        "id": "view-in-github",
        "colab_type": "text"
      },
      "source": [
        "<a href=\"https://colab.research.google.com/github/ClementeGarcia/Simulaci-n-1/blob/main/Prueba_Chi_cuadrada.ipynb\" target=\"_parent\"><img src=\"https://colab.research.google.com/assets/colab-badge.svg\" alt=\"Open In Colab\"/></a>"
      ]
    },
    {
      "cell_type": "markdown",
      "source": [
        "**Prueba de bondad de ajuste**\n",
        "\n",
        " Chi cuadrada$ \\chi^2 $\n",
        "\n",
        " Paso 1 : Agrupar los números aleatorios en $k$ clases distintas de igual amplitud\n",
        "\n",
        " Paso 2: Hallar la frecuencia de cada clase\n",
        "\n",
        " Paso 3: Calcule el estadístico\n",
        " $\\chi^2 = \\sum\\Big[\\frac{(f_o - f_e)^2}{f_e}) \\Big]$\n",
        "\n",
        " Paso 4: Formule la regla de decisión"
      ],
      "metadata": {
        "id": "d4rJvrN1D5HQ"
      }
    },
    {
      "cell_type": "code",
      "source": [
        "import numpy as np\n",
        "\n",
        "# Función para clasificar los datos en cinco clases según su rango\n",
        "def clases(datos):\n",
        "    datos1 = []  # Clase para valores en el rango [0, 0.2]\n",
        "    datos2 = []  # Clase para valores en el rango (0.2, 0.4]\n",
        "    datos3 = []  # Clase para valores en el rango [0.4, 0.6]\n",
        "    datos4 = []  # Clase para valores en el rango (0.6, 0.8]\n",
        "    datos5 = []  # Clase para valores en el rango (0.8, 1]\n",
        "\n",
        "    indices = np.arange(25)  # 25 datos\n",
        "    for i in indices:\n",
        "        if 0 <= datos[i] <= 0.2:\n",
        "            datos1.append(datos[i])\n",
        "        if 0.2 < datos[i] <= 0.4:\n",
        "            datos2.append(datos[i])\n",
        "        if 0.4 <= datos[i] <= 0.6:\n",
        "            datos3.append(datos[i])\n",
        "        if 0.6 < datos[i] <= 0.8:\n",
        "            datos4.append(datos[i])\n",
        "        if 0.8 < datos[i] <= 1:\n",
        "            datos5.append(datos[i])\n",
        "\n",
        "    # Se agrupan las listas en una lista principal que contiene las clases\n",
        "    clasesx = [datos1, datos2, datos3, datos4, datos5]\n",
        "    return clasesx\n",
        "\n",
        "# Función para calcular la prueba de chi-cuadrado\n",
        "def prueba(N, n, clasesx):\n",
        "    freesp = N / n  # Frecuencia esperada\n",
        "    freobs = np.zeros(n)  # Vector para almacenar las frecuencias observadas\n",
        "\n",
        "    indices1 = np.arange(5)  #  hay 5 clases\n",
        "    for i in indices1:\n",
        "        freobs[i] = len(clasesx[i])\n",
        "\n",
        "    chicuadrada = 0  # Inicialización del estadístico de chi-cuadrado\n",
        "\n",
        "    indices = np.arange(n)\n",
        "    for i in indices:\n",
        "        # Se calcula la fórmula de chi-cuadrado\n",
        "        chicuadrada = chicuadrada + ((freobs[i] - freesp) ** 2 / freesp)\n",
        "\n",
        "    return chicuadrada\n",
        "\n",
        "# Datos de prueba (25 valores en [0,1])\n",
        "datos = [0.048, 0.926, 0.368, 0.787, 0.298, 0.591, 0.007, 0.437, 0.594, 0.199,\n",
        "         0.478, 0.551, 0.178, 0.086, 0.157, 0.166, 0.362, 0.411, 0.951, 0.401,\n",
        "         0.932, 0.533, 0.545, 0.772, 0.631]\n",
        "\n",
        "datos = np.array(datos)  # Se convierte a un array de numpy\n",
        "\n",
        "clasesx = clases(datos)\n",
        "N = len(datos)  # Total de datos\n",
        "n = len(clasesx)  # Número de clases\n",
        "\n",
        "chicuadrada = prueba(N, n, clasesx)  # Se calcula el estadístico de chi-cuadrado\n",
        "valcrit = 9.48  # Valor crítico para 4 grados de libertad y alfa=0.05\n",
        "\n",
        "# Se imprimen los resultados de la prueba\n",
        "print(\"El valor de chi cuadrada es: \", chicuadrada)\n",
        "print(\"El valor crítico es: \", valcrit)\n",
        "\n",
        "# Se evalúa si se acepta o se rechaza la hipótesis nula\n",
        "if chicuadrada <= valcrit:\n",
        "    print(\"Por lo tanto, no se rechaza la hipótesis nula, por lo que no cumple con una U(0,1)\")\n",
        "else:\n",
        "    print(\"Por lo tanto, se rechaza la hipótesis nula\")\n",
        "\n"
      ],
      "metadata": {
        "colab": {
          "base_uri": "https://localhost:8080/"
        },
        "id": "cigeBJK1FW9-",
        "outputId": "dd856d50-f152-45b1-ebec-b76d65915fd7"
      },
      "execution_count": 193,
      "outputs": [
        {
          "output_type": "stream",
          "name": "stdout",
          "text": [
            "El valor de chi cuadrada es:  6.4\n",
            "El valor crítico es:  9.48\n",
            "Por lo tanto, no se rechaza la hipótesis nula, por lo que no cumple con una U(0,1)\n"
          ]
        }
      ]
    },
    {
      "cell_type": "markdown",
      "source": [],
      "metadata": {
        "id": "ySxwn8QcFeij"
      }
    }
  ]
}