{
  "nbformat": 4,
  "nbformat_minor": 0,
  "metadata": {
    "colab": {
      "provenance": [],
      "authorship_tag": "ABX9TyO02NSDSfb5qgOhzZaNABcc",
      "include_colab_link": true
    },
    "kernelspec": {
      "name": "python3",
      "display_name": "Python 3"
    },
    "language_info": {
      "name": "python"
    }
  },
  "cells": [
    {
      "cell_type": "markdown",
      "metadata": {
        "id": "view-in-github",
        "colab_type": "text"
      },
      "source": [
        "<a href=\"https://colab.research.google.com/github/ClementeGarcia/Simulaci-n-1/blob/main/Aceptaci%C3%B3n_y_rechazo.ipynb\" target=\"_parent\"><img src=\"https://colab.research.google.com/assets/colab-badge.svg\" alt=\"Open In Colab\"/></a>"
      ]
    },
    {
      "cell_type": "markdown",
      "source": [
        "#Método de Acepctación y Rechazo\n",
        "\n",
        "**Paso 1**. Generas dos números aleatorios $R_1$, $R_2$\n",
        "\n",
        "**Pao 2.** Determinar $x$\n",
        "\n",
        "$$x = a + (b-a)R_1$$\n",
        "\n",
        "**Paso 3.** Evaluar $f$ en $x$\n",
        "\n",
        "**Paso 4.** Si\n",
        "$$R_2 \\leq \\frac{f(x)}{M}$$, aceptar $x$\n",
        "\n",
        "Otro caso rechazar x"
      ],
      "metadata": {
        "id": "IG8msoq39Yv1"
      }
    },
    {
      "cell_type": "code",
      "execution_count": 1,
      "metadata": {
        "id": "sUBVV7mp0DPM"
      },
      "outputs": [],
      "source": [
        "import numpy as np\n",
        "import matplotlib.pyplot as plt\n",
        "from random import random"
      ]
    },
    {
      "cell_type": "code",
      "source": [
        "#Asignamos nuestros parámetros\n",
        "a = 1\n",
        "b = 3\n",
        "c = 5\n"
      ],
      "metadata": {
        "id": "_yK38zVo0xV5"
      },
      "execution_count": 2,
      "outputs": []
    },
    {
      "cell_type": "code",
      "source": [
        "def f(x, a, b, c):# Función triangular\n",
        "    if a <= x <= b:\n",
        "        return 2 * (x - a) / ((c - a) * (b - a))\n",
        "    elif b < x <= c:\n",
        "        return -2 * (x - c) / ((c - a) * (c - b))\n",
        "    else:\n",
        "        return 0\n",
        "\n"
      ],
      "metadata": {
        "id": "sIXfVv2O135f"
      },
      "execution_count": 3,
      "outputs": []
    },
    {
      "cell_type": "code",
      "source": [
        "def aceptacion(n):\n",
        "  lista = [] #Crea una lista vacía para almacenar las muestras aceptadas\n",
        "  for _ in range(n): #Itera n veces para generar n muestras válidas.\n",
        "    R1 = random()  # Número aleatorio entre 0 y 1\n",
        "    R2 = random()  # Número aleatorio entre 0 y 1\n",
        "    x = a + (c-a)*R1\n",
        "    if R2 <= f(x,a,b,c):\n",
        "      lista.append(x) #añade x a la lista de muestras aceptadas.\n",
        "  return lista"
      ],
      "metadata": {
        "id": "XUV7VaiB1BNa"
      },
      "execution_count": 4,
      "outputs": []
    },
    {
      "cell_type": "code",
      "source": [
        "d = aceptacion(500000) # genera 500,000 muestras aleatorias usando la función aceptacion(n)"
      ],
      "metadata": {
        "id": "SlWJfXwV1E4a"
      },
      "execution_count": 5,
      "outputs": []
    },
    {
      "cell_type": "code",
      "source": [
        "plt.hist(d, bins=1000) #Se gráfica el histograma\n",
        "plt.show()"
      ],
      "metadata": {
        "colab": {
          "base_uri": "https://localhost:8080/",
          "height": 430
        },
        "id": "8Qx8hbMf1IOK",
        "outputId": "454b668d-b8c2-4f2a-a6f0-edac11566d48"
      },
      "execution_count": 6,
      "outputs": [
        {
          "output_type": "display_data",
          "data": {
            "text/plain": [
              "<Figure size 640x480 with 1 Axes>"
            ],
            "image/png": "[encoded data removed]"
          },
          "metadata": {}
        }
      ]
    },
    {
      "cell_type": "markdown",
      "source": [
        "#Simulando la media"
      ],
      "metadata": {
        "id": "kfswhhD--bBp"
      }
    },
    {
      "cell_type": "code",
      "source": [
        "np.mean(d)"
      ],
      "metadata": {
        "colab": {
          "base_uri": "https://localhost:8080/"
        },
        "id": "wOgXjU5P-fR0",
        "outputId": "6d810daa-65fd-477c-8ea3-ba24fd39b95a"
      },
      "execution_count": 7,
      "outputs": [
        {
          "output_type": "execute_result",
          "data": {
            "text/plain": [
              "np.float64(2.995698247107351)"
            ]
          },
          "metadata": {},
          "execution_count": 7
        }
      ]
    },
    {
      "cell_type": "markdown",
      "source": [
        "#Media\n",
        "Calculando la media teórica tenemos que:\n",
        "$$\n",
        "\\mu=E[X]=\\int_a^c x\\,f(x)\\,dx.\n",
        "$$\n",
        "\n",
        "$$\n",
        "\\mu=\\frac{a+b+c}{3} .\n",
        "$$\n",
        "Sustituyendo los valores donde a = 1, b = 3 y c = 5 tenemos  que\n",
        "\n",
        "$$\n",
        "\\mu=\\frac{1+3+5}{3} = 3.\n",
        "$$\n",
        "\n",
        "Podemos observar que nuestra esperanza simulada se aproxima a nuestra esperanza teorica"
      ],
      "metadata": {
        "id": "Z5dubcF7_sBw"
      }
    },
    {
      "cell_type": "markdown",
      "source": [
        "#Simulando la varianza"
      ],
      "metadata": {
        "id": "vcOsawXE-iWQ"
      }
    },
    {
      "cell_type": "code",
      "source": [
        "np.var(d)"
      ],
      "metadata": {
        "colab": {
          "base_uri": "https://localhost:8080/"
        },
        "id": "cGp0R8xX-kP1",
        "outputId": "2b9344bb-7dec-4538-954f-3809976da339"
      },
      "execution_count": 8,
      "outputs": [
        {
          "output_type": "execute_result",
          "data": {
            "text/plain": [
              "np.float64(0.6713514168575664)"
            ]
          },
          "metadata": {},
          "execution_count": 8
        }
      ]
    },
    {
      "cell_type": "markdown",
      "source": [
        "#Varianza\n",
        "\n",
        "Calculando la varianza teórica:\n",
        "\n",
        "$$\n",
        "\\operatorname{Var}(X)=E[X^2]-\\big(E[X]\\big)^2.\n",
        "$$\n",
        "\n",
        "$$\n",
        "E[X^2]=\\int_a^c x^2 f(x)\\,dx = I_{1}^*+I_{2}^*\n",
        "$$\n",
        "Por lo que realizando las operaciones correspondientes llegamos a que\n",
        "\n",
        "$$\n",
        "\\operatorname{Var}(X)=\\frac{1^2+3^2+5^2-(1)(3)-(1)(5)-(3)(5)}{18} = \\frac{2}{3} = 0.66666667\n",
        "$$\n",
        "\n",
        "Por lo tanto podemos observar que nuestra varianza simulada aproxima a nuestra varianza teorica"
      ],
      "metadata": {
        "id": "wWrQxjq-_-np"
      }
    },
    {
      "cell_type": "markdown",
      "source": [
        "#Simulando la desviación estándar\n",
        "\n",
        "Al sacar raíz a la varianza toerica obtenemos un valor aproximado a la simulación obtenida"
      ],
      "metadata": {
        "id": "icMz-KDt-rM1"
      }
    },
    {
      "cell_type": "code",
      "source": [
        "np.std(d)"
      ],
      "metadata": {
        "colab": {
          "base_uri": "https://localhost:8080/"
        },
        "id": "Uoe5DG_9-vmo",
        "outputId": "380bee5b-b0dd-425e-ce13-3f84e88e1fd0"
      },
      "execution_count": 9,
      "outputs": [
        {
          "output_type": "execute_result",
          "data": {
            "text/plain": [
              "np.float64(0.819360370568144)"
            ]
          },
          "metadata": {},
          "execution_count": 9
        }
      ]
    }
  ]
}