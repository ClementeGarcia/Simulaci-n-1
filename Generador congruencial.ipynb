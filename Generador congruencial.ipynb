{
  "nbformat": 4,
  "nbformat_minor": 0,
  "metadata": {
    "colab": {
      "provenance": [],
      "authorship_tag": "ABX9TyODj9yT/4hmXPwbNJRQHxnL",
      "include_colab_link": true
    },
    "kernelspec": {
      "name": "python3",
      "display_name": "Python 3"
    },
    "language_info": {
      "name": "python"
    }
  },
  "cells": [
    {
      "cell_type": "markdown",
      "metadata": {
        "id": "view-in-github",
        "colab_type": "text"
      },
      "source": [
        "<a href=\"https://colab.research.google.com/github/ClementeGarcia/Simulaci-n-1/blob/main/Generador%20congruencial.ipynb\" target=\"_parent\"><img src=\"https://colab.research.google.com/assets/colab-badge.svg\" alt=\"Open In Colab\"/></a>"
      ]
    },
    {
      "cell_type": "code",
      "source": [
        "import tabulate\n",
        "import matplotlib.pyplot as plt\n",
        "import numpy as np\n",
        "import random\n",
        "def generador(a,c,m,x0):\n",
        "    x1=(a*x0+c) %m\n",
        "    return x1\n",
        "\n",
        "n=10000\n",
        "a=101\n",
        "c=21\n",
        "m=50\n",
        "x0=1\n",
        "p=0\n",
        "muestra=[]\n",
        "datos=[]\n",
        "\n",
        "\n",
        "\n",
        "for i in range(n):\n",
        "    nuevo=generador(a,c,m,x0)\n",
        "    muestra.append([i,x0,nuevo/m])\n",
        "    datos.append(x0)\n",
        "    x0=nuevo\n",
        "    p=p+1\n",
        "    if x0==datos[0]:\n",
        "        break\n",
        "\n",
        "encabezados=[\"i\", \"x_i\", \"X_i/m\"]\n",
        "print(tabulate.tabulate(muestra, headers=encabezados,tablefmt=\"psql\",numalign=\"center\"))\n",
        "\n",
        "print(p)"
      ],
      "metadata": {
        "colab": {
          "base_uri": "https://localhost:8080/"
        },
        "id": "fQ4mh2CNfFHg",
        "outputId": "7d02447e-25ca-4a5a-d207-c68474da1fd0"
      },
      "execution_count": 1,
      "outputs": [
        {
          "output_type": "stream",
          "name": "stdout",
          "text": [
            "+-----+-------+---------+\n",
            "|  i  |  x_i  |  X_i/m  |\n",
            "|-----+-------+---------|\n",
            "|  0  |   1   |  0.44   |\n",
            "|  1  |  22   |  0.86   |\n",
            "|  2  |  43   |  0.28   |\n",
            "|  3  |  14   |   0.7   |\n",
            "|  4  |  35   |  0.12   |\n",
            "|  5  |   6   |  0.54   |\n",
            "|  6  |  27   |  0.96   |\n",
            "|  7  |  48   |  0.38   |\n",
            "|  8  |  19   |   0.8   |\n",
            "|  9  |  40   |  0.22   |\n",
            "| 10  |  11   |  0.64   |\n",
            "| 11  |  32   |  0.06   |\n",
            "| 12  |   3   |  0.48   |\n",
            "| 13  |  24   |   0.9   |\n",
            "| 14  |  45   |  0.32   |\n",
            "| 15  |  16   |  0.74   |\n",
            "| 16  |  37   |  0.16   |\n",
            "| 17  |   8   |  0.58   |\n",
            "| 18  |  29   |    0    |\n",
            "| 19  |   0   |  0.42   |\n",
            "| 20  |  21   |  0.84   |\n",
            "| 21  |  42   |  0.26   |\n",
            "| 22  |  13   |  0.68   |\n",
            "| 23  |  34   |   0.1   |\n",
            "| 24  |   5   |  0.52   |\n",
            "| 25  |  26   |  0.94   |\n",
            "| 26  |  47   |  0.36   |\n",
            "| 27  |  18   |  0.78   |\n",
            "| 28  |  39   |   0.2   |\n",
            "| 29  |  10   |  0.62   |\n",
            "| 30  |  31   |  0.04   |\n",
            "| 31  |   2   |  0.46   |\n",
            "| 32  |  23   |  0.88   |\n",
            "| 33  |  44   |   0.3   |\n",
            "| 34  |  15   |  0.72   |\n",
            "| 35  |  36   |  0.14   |\n",
            "| 36  |   7   |  0.56   |\n",
            "| 37  |  28   |  0.98   |\n",
            "| 38  |  49   |   0.4   |\n",
            "| 39  |  20   |  0.82   |\n",
            "| 40  |  41   |  0.24   |\n",
            "| 41  |  12   |  0.66   |\n",
            "| 42  |  33   |  0.08   |\n",
            "| 43  |   4   |   0.5   |\n",
            "| 44  |  25   |  0.92   |\n",
            "| 45  |  46   |  0.34   |\n",
            "| 46  |  17   |  0.76   |\n",
            "| 47  |  38   |  0.18   |\n",
            "| 48  |   9   |   0.6   |\n",
            "| 49  |  30   |  0.02   |\n",
            "+-----+-------+---------+\n",
            "50\n"
          ]
        }
      ]
    }
  ]
}