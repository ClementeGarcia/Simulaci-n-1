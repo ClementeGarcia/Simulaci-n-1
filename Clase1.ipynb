{
  "nbformat": 4,
  "nbformat_minor": 0,
  "metadata": {
    "colab": {
      "provenance": [],
      "authorship_tag": "ABX9TyO9KcaRqN+O7X6PPkzsW5VS",
      "include_colab_link": true
    },
    "kernelspec": {
      "name": "python3",
      "display_name": "Python 3"
    },
    "language_info": {
      "name": "python"
    }
  },
  "cells": [
    {
      "cell_type": "markdown",
      "metadata": {
        "id": "view-in-github",
        "colab_type": "text"
      },
      "source": [
        "<a href=\"https://colab.research.google.com/github/ClementeGarcia/Simulaci-n-1/blob/main/Clase1.ipynb\" target=\"_parent\"><img src=\"https://colab.research.google.com/assets/colab-badge.svg\" alt=\"Open In Colab\"/></a>"
      ]
    },
    {
      "cell_type": "markdown",
      "source": [
        "Número aleatorio\n"
      ],
      "metadata": {
        "id": "xMzu5ug8W6Wc"
      }
    },
    {
      "cell_type": "markdown",
      "source": [
        "Rand# numeros entre 0 y 1\n"
      ],
      "metadata": {
        "id": "3LgMji4cXJ5M"
      }
    },
    {
      "cell_type": "markdown",
      "source": [
        "Generador congruencial\n",
        "\n",
        "valor llamado semilla y lo vamos iterar\n",
        "\n",
        "$X_{n+1} = (aX_n + c) mod(m)$\n",
        "\n",
        "$X_0$, $a $,$c $,$m $  $\\hspace{0.5cm}$son constantes enteras\n",
        "\n",
        "mod(m)\n",
        "\n",
        "$x_0$ = semilla entero\n",
        "\n",
        "$a=4$\n",
        "\n",
        "$c=7$\n",
        "\n",
        "$m=22$\n",
        "\n",
        "\n",
        "$x_0 = 3$\n",
        "\n"
      ],
      "metadata": {
        "id": "0FN0EdIxXuxU"
      }
    },
    {
      "cell_type": "code",
      "source": [
        "import tabulate\n",
        "a = 4\n",
        "c = 7\n",
        "m = 22\n",
        "x0 = 3\n",
        "\n",
        "def generador(a,c,m,x0):\n",
        "  x = (a*x0 + c)%m\n",
        "  return x\n",
        "muestra = []\n",
        "generador(a,c,m,x0)\n",
        "datos = []\n",
        "\n",
        "for i in range(20):\n",
        "  nuevo = generador(a,c,m,x0)\n",
        "  muestra.append([i,x0,nuevo/m])\n",
        "  x0 = nuevo\n",
        "encabezados = [\"i\", \"x_i\", \"x_{i+1}\"]\n",
        "print(tabulate.tabulate(muestra,headers = encabezados))"
      ],
      "metadata": {
        "id": "v4A9LJiGbbab",
        "colab": {
          "base_uri": "https://localhost:8080/"
        },
        "outputId": "2389719e-dd38-44cc-90e3-206663c62324"
      },
      "execution_count": 4,
      "outputs": [
        {
          "output_type": "stream",
          "name": "stdout",
          "text": [
            "  i    x_i    x_{i+1}\n",
            "---  -----  ---------\n",
            "  0      3   0.863636\n",
            "  1     19   0.772727\n",
            "  2     17   0.409091\n",
            "  3      9   0.954545\n",
            "  4     21   0.136364\n",
            "  5      3   0.863636\n",
            "  6     19   0.772727\n",
            "  7     17   0.409091\n",
            "  8      9   0.954545\n",
            "  9     21   0.136364\n",
            " 10      3   0.863636\n",
            " 11     19   0.772727\n",
            " 12     17   0.409091\n",
            " 13      9   0.954545\n",
            " 14     21   0.136364\n",
            " 15      3   0.863636\n",
            " 16     19   0.772727\n",
            " 17     17   0.409091\n",
            " 18      9   0.954545\n",
            " 19     21   0.136364\n"
          ]
        }
      ]
    },
    {
      "cell_type": "code",
      "source": [
        "import pandas as pd\n",
        "\n",
        "# Parámetros del generador congruencial\n",
        "a = 4\n",
        "c = 7\n",
        "m = 22\n",
        "x0 = 3\n",
        "iteraciones = 23  # Número de iteraciones\n",
        "\n",
        "# Lista para almacenar los valores\n",
        "valores = []\n",
        "\n",
        "# Generación de números pseudoaleatorios\n",
        "x = x0\n",
        "for i in range(iteraciones):\n",
        "    x_next = (a * x + c) % m\n",
        "    valores.append([i, x, x_next/m])\n",
        "    x = x_next\n",
        "\n",
        "# Crear un DataFrame para mostrar los resultados en tabla\n",
        "df = pd.DataFrame(valores, columns=[\"Iteración\", \"X_i\", \"X_{n+1}\"])\n",
        "\n",
        "# Mostrar la tabla\n",
        "print(df)\n",
        "\n"
      ],
      "metadata": {
        "colab": {
          "base_uri": "https://localhost:8080/"
        },
        "id": "gg-26Ap9VBD0",
        "outputId": "a66574cb-3506-4455-e5cc-63cacf81c574"
      },
      "execution_count": 7,
      "outputs": [
        {
          "output_type": "stream",
          "name": "stdout",
          "text": [
            "    Iteración  X_i   X_{n+1}\n",
            "0           0    3  0.863636\n",
            "1           1   19  0.772727\n",
            "2           2   17  0.409091\n",
            "3           3    9  0.954545\n",
            "4           4   21  0.136364\n",
            "5           5    3  0.863636\n",
            "6           6   19  0.772727\n",
            "7           7   17  0.409091\n",
            "8           8    9  0.954545\n",
            "9           9   21  0.136364\n",
            "10         10    3  0.863636\n",
            "11         11   19  0.772727\n",
            "12         12   17  0.409091\n",
            "13         13    9  0.954545\n",
            "14         14   21  0.136364\n",
            "15         15    3  0.863636\n",
            "16         16   19  0.772727\n",
            "17         17   17  0.409091\n",
            "18         18    9  0.954545\n",
            "19         19   21  0.136364\n",
            "20         20    3  0.863636\n",
            "21         21   19  0.772727\n",
            "22         22   17  0.409091\n"
          ]
        }
      ]
    }
  ]
}