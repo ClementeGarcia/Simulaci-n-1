{
  "nbformat": 4,
  "nbformat_minor": 0,
  "metadata": {
    "colab": {
      "provenance": [],
      "authorship_tag": "ABX9TyOlmG9HF6Nxr3OvWFlFn7Cx",
      "include_colab_link": true
    },
    "kernelspec": {
      "name": "python3",
      "display_name": "Python 3"
    },
    "language_info": {
      "name": "python"
    }
  },
  "cells": [
    {
      "cell_type": "markdown",
      "metadata": {
        "id": "view-in-github",
        "colab_type": "text"
      },
      "source": [
        "<a href=\"https://colab.research.google.com/github/ClementeGarcia/Simulaci-n-1/blob/main/Clase1.ipynb\" target=\"_parent\"><img src=\"https://colab.research.google.com/assets/colab-badge.svg\" alt=\"Open In Colab\"/></a>"
      ]
    },
    {
      "cell_type": "markdown",
      "source": [
        "Número aleatorio\n"
      ],
      "metadata": {
        "id": "xMzu5ug8W6Wc"
      }
    },
    {
      "cell_type": "markdown",
      "source": [
        "Rand# numeros entre 0 y 1\n"
      ],
      "metadata": {
        "id": "3LgMji4cXJ5M"
      }
    },
    {
      "cell_type": "markdown",
      "source": [
        "Generador congruencial\n",
        "\n",
        "valor llamado semilla ylo vamos iterar\n",
        "\n",
        "$X_{n+1} = (aX_n + c) mod(m)$\n",
        "\n",
        "$X_0$, $a $,$c $,$m $  $\\hspace{0.5cm}$son constantes enteras\n",
        "\n",
        "mod(m)\n",
        "\n",
        "$x_0$ = semilla entero\n",
        "\n",
        "$a=4$\n",
        "\n",
        "$c=7$\n",
        "\n",
        "$m=22$\n",
        "\n",
        "\n",
        "$x_0 = 3$\n",
        "\n"
      ],
      "metadata": {
        "id": "0FN0EdIxXuxU"
      }
    },
    {
      "cell_type": "code",
      "source": [
        "import tabulate\n",
        "a = 3\n",
        "c = 9\n",
        "m = 22\n",
        "x0 = 3\n"
      ],
      "metadata": {
        "id": "v4A9LJiGbbab"
      },
      "execution_count": 78,
      "outputs": []
    },
    {
      "cell_type": "code",
      "source": [
        "def generador(a,c,m,x0):\n",
        "  x = (a*x0 + c)%m\n",
        "  return x\n",
        "muestra = []\n",
        "generador(a,c,m,x0)\n",
        "datos = []"
      ],
      "metadata": {
        "id": "qoA2cydjh2Ci"
      },
      "execution_count": 79,
      "outputs": []
    },
    {
      "cell_type": "code",
      "source": [
        "for i in range(20):\n",
        "  nuevo = generador(a,c,m,x0)\n",
        "  muestra.append([i,x0,nuevo/m])\n",
        "  x0 = nuevo\n",
        "encabezados = [\"i\", \"x_i\", \"x_{i+1}\"]\n",
        "print(tabulate.tabulate(muestra,headers = encabezados))"
      ],
      "metadata": {
        "colab": {
          "base_uri": "https://localhost:8080/"
        },
        "id": "teMisdfLiTrR",
        "outputId": "cbc15747-52a5-4fc4-907c-30ca76a57634"
      },
      "execution_count": 81,
      "outputs": [
        {
          "output_type": "stream",
          "name": "stdout",
          "text": [
            "  i    x_i    x_{i+1}\n",
            "---  -----  ---------\n",
            "  0      3   0.818182\n",
            "  1     18   0.863636\n",
            "  2     19   0\n",
            "  3      0   0.409091\n",
            "  4      9   0.636364\n",
            "  5     14   0.318182\n",
            "  6      7   0.363636\n",
            "  7      8   0.5\n",
            "  8     11   0.909091\n",
            "  9     20   0.136364\n",
            "  0      3   0.818182\n",
            "  1     18   0.863636\n",
            "  2     19   0\n",
            "  3      0   0.409091\n",
            "  4      9   0.636364\n",
            "  5     14   0.318182\n",
            "  6      7   0.363636\n",
            "  7      8   0.5\n",
            "  8     11   0.909091\n",
            "  9     20   0.136364\n",
            " 10      3   0.818182\n",
            " 11     18   0.863636\n",
            " 12     19   0\n",
            " 13      0   0.409091\n",
            " 14      9   0.636364\n",
            " 15     14   0.318182\n",
            " 16      7   0.363636\n",
            " 17      8   0.5\n",
            " 18     11   0.909091\n",
            " 19     20   0.136364\n"
          ]
        }
      ]
    }
  ]
}