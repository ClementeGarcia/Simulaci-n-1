{
  "nbformat": 4,
  "nbformat_minor": 0,
  "metadata": {
    "colab": {
      "provenance": [],
      "authorship_tag": "ABX9TyOZ63oJFElYAKsHMIbs08W1",
      "include_colab_link": true
    },
    "kernelspec": {
      "name": "python3",
      "display_name": "Python 3"
    },
    "language_info": {
      "name": "python"
    }
  },
  "cells": [
    {
      "cell_type": "markdown",
      "metadata": {
        "id": "view-in-github",
        "colab_type": "text"
      },
      "source": [
        "<a href=\"https://colab.research.google.com/github/ClementeGarcia/Simulaci-n-1/blob/main/Generador_del_cuadrado_medio.ipynb\" target=\"_parent\"><img src=\"https://colab.research.google.com/assets/colab-badge.svg\" alt=\"Open In Colab\"/></a>"
      ]
    },
    {
      "cell_type": "markdown",
      "source": [
        "Método del Cuadrado Medio\n",
        "\n",
        "Es un método de generación de números aleatorios.\n",
        "\n",
        "1. Se toma un número de cuatro dígitos.\n",
        "2. Posteriormente se elva al cuadrado.\n",
        "3. Se toman los cuatro digitos de en medio.\n",
        "\n",
        "Este programa implementa el método de cuadrados medios para generar una secuencia de números pseudoaleatorios. A partir de un valor inicial (semilla), eleva el número al cuadrado, extrae los dígitos centrales y usa ese valor como la siguiente semilla. La secuencia se almacena en una tabla utilizando la librería PrettyTable para mostrar los resultados de manera estructurada."
      ],
      "metadata": {
        "id": "p_-O1Wdb0PdG"
      }
    },
    {
      "cell_type": "code",
      "source": [
        "import numpy as np #Arreglos numéricos\n",
        "from prettytable import PrettyTable #librería para poder generar nuestra tabla\n",
        "\n",
        "num1 = [] #Lista vacía para lamacenar los valores generados en la secuencia\n",
        "num2 = [] #Almacena el resultado de elevar al cuadrado cada iteración\n",
        "\n",
        "n = 37 #cantidad de números a generar.\n",
        "numerosindi = np.arange(n) #arreglo con los números generados\n",
        "\n",
        "num1.append(6203) #semilla inicial\n",
        "num1[0] #se almacena en la lista num1\n",
        "\n",
        "#Tomamos el arreglo numerosindi para gnerar n números\n",
        "for x in numerosindi:\n",
        "\n",
        "  elev = num1[x]**2 #Se eleva al cuadrado num1[x]\n",
        "  num2.append(elev) #almacenamos en num2 el valor obtenido\n",
        "  r = str(elev) #Lo convertimos en una cadena para poder sacar los numeros de enmedio\n",
        "  if len(r) == 7: #si el cuadrado tiene 7 dígitos, se agrega un cero al inicio para asegurar que tenga 8\n",
        "    r = '0' + r\n",
        "  r =r[2:6] #Se extreaen los dígitos centrales\n",
        "  r = int(r)\n",
        "  num1.append(r)#almacenamos el nuevo valor en num1 para seguir las iteraciones\n",
        "\n",
        "\n",
        "#Generamos la tabla que nos ayudara a visualizar los datos\n",
        "table = PrettyTable()\n",
        "num1  = num1[0:n]\n",
        "table.add_column(\"n\",numerosindi)\n",
        "table.add_column(\"x\",num1)\n",
        "table.add_column(\"x^2\",num2)\n",
        "print(table) #visualizamos la tabla"
      ],
      "metadata": {
        "colab": {
          "base_uri": "https://localhost:8080/"
        },
        "id": "FBc66TCb0u3x",
        "outputId": "8377f8f7-ac28-4453-bc4e-d4e82099590f"
      },
      "execution_count": 25,
      "outputs": [
        {
          "output_type": "stream",
          "name": "stdout",
          "text": [
            "+----+------+----------+\n",
            "| n  |  x   |   x^2    |\n",
            "+----+------+----------+\n",
            "| 0  | 6203 | 38477209 |\n",
            "| 1  | 4772 | 22771984 |\n",
            "| 2  | 7719 | 59582961 |\n",
            "| 3  | 5829 | 33977241 |\n",
            "| 4  | 9772 | 95491984 |\n",
            "| 5  | 4919 | 24196561 |\n",
            "| 6  | 1965 | 3861225  |\n",
            "| 7  | 8612 | 74166544 |\n",
            "| 8  | 1665 | 2772225  |\n",
            "| 9  | 7722 | 59629284 |\n",
            "| 10 | 6292 | 39589264 |\n",
            "| 11 | 5892 | 34715664 |\n",
            "| 12 | 7156 | 51208336 |\n",
            "| 13 | 2083 | 4338889  |\n",
            "| 14 | 3388 | 11478544 |\n",
            "| 15 | 4785 | 22896225 |\n",
            "| 16 | 8962 | 80317444 |\n",
            "| 17 | 3174 | 10074276 |\n",
            "| 18 | 742  |  550564  |\n",
            "| 19 | 564  |  318096  |\n",
            "| 20 | 8096 | 65545216 |\n",
            "| 21 | 5452 | 29724304 |\n",
            "| 22 | 7243 | 52461049 |\n",
            "| 23 | 4610 | 21252100 |\n",
            "| 24 | 2521 | 6355441  |\n",
            "| 25 | 3554 | 12630916 |\n",
            "| 26 | 6309 | 39803481 |\n",
            "| 27 | 8034 | 64545156 |\n",
            "| 28 | 5451 | 29713401 |\n",
            "| 29 | 7134 | 50893956 |\n",
            "| 30 | 8939 | 79905721 |\n",
            "| 31 | 9057 | 82029249 |\n",
            "| 32 | 292  |  85264   |\n",
            "| 33 | 264  |  69696   |\n",
            "| 34 | 696  |  484416  |\n",
            "| 35 | 4416 | 19501056 |\n",
            "| 36 | 5010 | 25100100 |\n",
            "+----+------+----------+\n"
          ]
        }
      ]
    }
  ]
}