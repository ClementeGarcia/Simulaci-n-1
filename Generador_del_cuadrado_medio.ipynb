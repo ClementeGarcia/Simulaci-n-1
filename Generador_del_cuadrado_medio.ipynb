{
  "nbformat": 4,
  "nbformat_minor": 0,
  "metadata": {
    "colab": {
      "provenance": [],
      "authorship_tag": "ABX9TyNnM1oc1bzzPdnqhmwzSJjG",
      "include_colab_link": true
    },
    "kernelspec": {
      "name": "python3",
      "display_name": "Python 3"
    },
    "language_info": {
      "name": "python"
    }
  },
  "cells": [
    {
      "cell_type": "markdown",
      "metadata": {
        "id": "view-in-github",
        "colab_type": "text"
      },
      "source": [
        "<a href=\"https://colab.research.google.com/github/ClementeGarcia/Simulaci-n-1/blob/main/Generador_del_cuadrado_medio.ipynb\" target=\"_parent\"><img src=\"https://colab.research.google.com/assets/colab-badge.svg\" alt=\"Open In Colab\"/></a>"
      ]
    },
    {
      "cell_type": "markdown",
      "source": [
        "Método del Cuadrado Medio\n",
        "\n",
        "Es un método de generación de números aleatorios.\n",
        "\n",
        "1. Se toma un número de cuatro dígitos.\n",
        "2. Posteriormente se elva al cuadrado.\n",
        "3. Se toman los cuatro digitos de en medio.\n",
        "\n",
        "Este programa implementa el método de cuadrados medios para generar una secuencia de números pseudoaleatorios. A partir de un valor inicial (semilla), eleva el número al cuadrado, extrae los dígitos centrales y usa ese valor como la siguiente semilla. La secuencia se almacena en una tabla utilizando la librería PrettyTable para mostrar los resultados de manera estructurada."
      ],
      "metadata": {
        "id": "p_-O1Wdb0PdG"
      }
    },
    {
      "cell_type": "code",
      "source": [
        "import numpy as np\n",
        "from prettytable import PrettyTable\n",
        "\n",
        "num1 = []\n",
        "num2 = []\n",
        "\n",
        "n = 37\n",
        "numerosindi = np.arange(n)\n",
        "\n",
        "num1.append(9600)\n",
        "\n",
        "for x in numerosindi:\n",
        "    elev = num1[x]**2\n",
        "    num2.append(elev)\n",
        "    r = str(elev)\n",
        "    if len(r) == 7:\n",
        "        r = '0' + r\n",
        "    r = r[2:6]\n",
        "    r = int(r)\n",
        "    num1.append(r)\n",
        "\n",
        "num1 = num1[0:n]\n",
        "x_min = min(num1)\n",
        "x_max = max(num1)\n",
        "num1_norm = [(x - x_min) / (x_max - x_min) for x in num1]\n",
        "\n",
        "table = PrettyTable()\n",
        "table.add_column(\"n\", numerosindi)\n",
        "table.add_column(\"x\", num1)\n",
        "table.add_column(\"x^2\", num2)\n",
        "table.add_column(\"x_norm\", num1_norm)\n",
        "\n",
        "print(table)\n",
        "\n",
        "# Verificar cuándo se repite el primer número\n",
        "seen = {}\n",
        "for i, x in enumerate(num1):\n",
        "    if x in seen:\n",
        "        print(f\"Ciclo de vida: {i}\")\n",
        "        break\n",
        "    seen[x] = i\n",
        "else:\n",
        "    print(\"No se encontraron repeticiones en la secuencia.\")\n",
        "\n"
      ],
      "metadata": {
        "colab": {
          "base_uri": "https://localhost:8080/"
        },
        "id": "FBc66TCb0u3x",
        "outputId": "451ced51-988f-4865-c765-8b1991d680c0"
      },
      "execution_count": 5,
      "outputs": [
        {
          "output_type": "stream",
          "name": "stdout",
          "text": [
            "+----+------+----------+--------+\n",
            "| n  |  x   |   x^2    | x_norm |\n",
            "+----+------+----------+--------+\n",
            "| 0  | 9600 | 92160000 |  1.0   |\n",
            "| 1  | 1600 | 2560000  |  0.0   |\n",
            "| 2  | 5600 | 31360000 |  0.5   |\n",
            "| 3  | 3600 | 12960000 |  0.25  |\n",
            "| 4  | 9600 | 92160000 |  1.0   |\n",
            "| 5  | 1600 | 2560000  |  0.0   |\n",
            "| 6  | 5600 | 31360000 |  0.5   |\n",
            "| 7  | 3600 | 12960000 |  0.25  |\n",
            "| 8  | 9600 | 92160000 |  1.0   |\n",
            "| 9  | 1600 | 2560000  |  0.0   |\n",
            "| 10 | 5600 | 31360000 |  0.5   |\n",
            "| 11 | 3600 | 12960000 |  0.25  |\n",
            "| 12 | 9600 | 92160000 |  1.0   |\n",
            "| 13 | 1600 | 2560000  |  0.0   |\n",
            "| 14 | 5600 | 31360000 |  0.5   |\n",
            "| 15 | 3600 | 12960000 |  0.25  |\n",
            "| 16 | 9600 | 92160000 |  1.0   |\n",
            "| 17 | 1600 | 2560000  |  0.0   |\n",
            "| 18 | 5600 | 31360000 |  0.5   |\n",
            "| 19 | 3600 | 12960000 |  0.25  |\n",
            "| 20 | 9600 | 92160000 |  1.0   |\n",
            "| 21 | 1600 | 2560000  |  0.0   |\n",
            "| 22 | 5600 | 31360000 |  0.5   |\n",
            "| 23 | 3600 | 12960000 |  0.25  |\n",
            "| 24 | 9600 | 92160000 |  1.0   |\n",
            "| 25 | 1600 | 2560000  |  0.0   |\n",
            "| 26 | 5600 | 31360000 |  0.5   |\n",
            "| 27 | 3600 | 12960000 |  0.25  |\n",
            "| 28 | 9600 | 92160000 |  1.0   |\n",
            "| 29 | 1600 | 2560000  |  0.0   |\n",
            "| 30 | 5600 | 31360000 |  0.5   |\n",
            "| 31 | 3600 | 12960000 |  0.25  |\n",
            "| 32 | 9600 | 92160000 |  1.0   |\n",
            "| 33 | 1600 | 2560000  |  0.0   |\n",
            "| 34 | 5600 | 31360000 |  0.5   |\n",
            "| 35 | 3600 | 12960000 |  0.25  |\n",
            "| 36 | 9600 | 92160000 |  1.0   |\n",
            "+----+------+----------+--------+\n",
            "Ciclo de vida: 4\n"
          ]
        }
      ]
    }
  ]
}