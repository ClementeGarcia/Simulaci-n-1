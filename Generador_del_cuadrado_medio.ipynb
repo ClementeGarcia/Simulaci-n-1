{
  "nbformat": 4,
  "nbformat_minor": 0,
  "metadata": {
    "colab": {
      "provenance": [],
      "authorship_tag": "ABX9TyPGM4s6VEpdkMNrYjHG/968",
      "include_colab_link": true
    },
    "kernelspec": {
      "name": "python3",
      "display_name": "Python 3"
    },
    "language_info": {
      "name": "python"
    }
  },
  "cells": [
    {
      "cell_type": "markdown",
      "metadata": {
        "id": "view-in-github",
        "colab_type": "text"
      },
      "source": [
        "<a href=\"https://colab.research.google.com/github/ClementeGarcia/Simulaci-n-1/blob/main/Generador_del_cuadrado_medio.ipynb\" target=\"_parent\"><img src=\"https://colab.research.google.com/assets/colab-badge.svg\" alt=\"Open In Colab\"/></a>"
      ]
    },
    {
      "cell_type": "markdown",
      "source": [
        "Método del Cuadrado Medio\n",
        "\n",
        "Es un método de generación de números aleatorios.\n",
        "\n",
        "1. Se toma un número de cuatro dígitos.\n",
        "2. Posteriormente se elva al cuadrado.\n",
        "3. Se toman los cuatro digitos de en medio.\n",
        "\n",
        "Este programa implementa el método de cuadrados medios para generar una secuencia de números pseudoaleatorios. A partir de un valor inicial (semilla), eleva el número al cuadrado, extrae los dígitos centrales y usa ese valor como la siguiente semilla. La secuencia se almacena en una tabla utilizando la librería PrettyTable para mostrar los resultados de manera estructurada."
      ],
      "metadata": {
        "id": "p_-O1Wdb0PdG"
      }
    },
    {
      "cell_type": "code",
      "source": [
        "import numpy as np\n",
        "from prettytable import PrettyTable\n",
        "\n",
        "# Inicialización de listas para almacenar los números generados y sus cuadrados\n",
        "num1 = []\n",
        "num2 = []\n",
        "\n",
        "# Definición del número de iteraciones\n",
        "n = 37\n",
        "\n",
        "# Creación de un arreglo con los índices de 0 a n-1\n",
        "numerosindi = np.arange(n)\n",
        "\n",
        "# Inicialización de la secuencia con el primer número\n",
        "num1.append(9600)\n",
        "\n",
        "# Bucle para generar la secuencia de números\n",
        "for x in numerosindi:\n",
        "    # Elevar al cuadrado el último número en la secuencia\n",
        "    elev = num1[x]**2\n",
        "    # Almacenar el cuadrado en la lista num2\n",
        "    num2.append(elev)\n",
        "    # Convertir el cuadrado a una cadena para manipularlo\n",
        "    r = str(elev)\n",
        "    # Asegurar que el cuadrado tenga 8 dígitos, añadiendo un cero al principio si es necesario\n",
        "    if len(r) == 7:\n",
        "        r = '0' + r\n",
        "    # Extraer los dígitos del medio (posiciones 2 a 5)\n",
        "    r = r[2:6]\n",
        "    # Convertir los dígitos extraídos a un número entero\n",
        "    r = int(r)\n",
        "    # Añadir el nuevo número a la secuencia\n",
        "    num1.append(r)\n",
        "\n",
        "# Asegurar que la secuencia tenga exactamente n elementos\n",
        "num1 = num1[0:n]\n",
        "\n",
        "# Calcular el valor mínimo y máximo de la secuencia\n",
        "x_min = min(num1)\n",
        "x_max = max(num1)\n",
        "\n",
        "# Normalizar los valores de la secuencia al rango [0, 1]\n",
        "num1_norm = [(x - x_min) / (x_max - x_min) for x in num1]\n",
        "\n",
        "# Crear una tabla para mostrar los resultados\n",
        "table = PrettyTable()\n",
        "table.add_column(\"n\", numerosindi)\n",
        "table.add_column(\"x\", num1)\n",
        "table.add_column(\"x^2\", num2)\n",
        "table.add_column(\"x_norm\", num1_norm)\n",
        "\n",
        "# Imprimir la tabla\n",
        "print(table)\n",
        "\n",
        "# Verificar cuándo se repite el primer número en la secuencia\n",
        "seen = {}\n",
        "for i, x in enumerate(num1):\n",
        "    if x in seen:\n",
        "        print(f\"Ciclo de vida: {i}\")\n",
        "        break\n",
        "    seen[x] = i\n",
        "else:\n",
        "    print(\"No se encontraron repeticiones en la secuencia.\")\n",
        "\n"
      ],
      "metadata": {
        "colab": {
          "base_uri": "https://localhost:8080/"
        },
        "id": "FBc66TCb0u3x",
        "outputId": "a35224d1-a755-45ca-9838-f4035aafc37a"
      },
      "execution_count": 99,
      "outputs": [
        {
          "output_type": "stream",
          "name": "stdout",
          "text": [
            "+----+------+----------+--------+\n",
            "| n  |  x   |   x^2    | x_norm |\n",
            "+----+------+----------+--------+\n",
            "| 0  | 9600 | 92160000 |  1.0   |\n",
            "| 1  | 1600 | 2560000  |  0.0   |\n",
            "| 2  | 5600 | 31360000 |  0.5   |\n",
            "| 3  | 3600 | 12960000 |  0.25  |\n",
            "| 4  | 9600 | 92160000 |  1.0   |\n",
            "| 5  | 1600 | 2560000  |  0.0   |\n",
            "| 6  | 5600 | 31360000 |  0.5   |\n",
            "| 7  | 3600 | 12960000 |  0.25  |\n",
            "| 8  | 9600 | 92160000 |  1.0   |\n",
            "| 9  | 1600 | 2560000  |  0.0   |\n",
            "| 10 | 5600 | 31360000 |  0.5   |\n",
            "| 11 | 3600 | 12960000 |  0.25  |\n",
            "| 12 | 9600 | 92160000 |  1.0   |\n",
            "| 13 | 1600 | 2560000  |  0.0   |\n",
            "| 14 | 5600 | 31360000 |  0.5   |\n",
            "| 15 | 3600 | 12960000 |  0.25  |\n",
            "| 16 | 9600 | 92160000 |  1.0   |\n",
            "| 17 | 1600 | 2560000  |  0.0   |\n",
            "| 18 | 5600 | 31360000 |  0.5   |\n",
            "| 19 | 3600 | 12960000 |  0.25  |\n",
            "| 20 | 9600 | 92160000 |  1.0   |\n",
            "| 21 | 1600 | 2560000  |  0.0   |\n",
            "| 22 | 5600 | 31360000 |  0.5   |\n",
            "| 23 | 3600 | 12960000 |  0.25  |\n",
            "| 24 | 9600 | 92160000 |  1.0   |\n",
            "| 25 | 1600 | 2560000  |  0.0   |\n",
            "| 26 | 5600 | 31360000 |  0.5   |\n",
            "| 27 | 3600 | 12960000 |  0.25  |\n",
            "| 28 | 9600 | 92160000 |  1.0   |\n",
            "| 29 | 1600 | 2560000  |  0.0   |\n",
            "| 30 | 5600 | 31360000 |  0.5   |\n",
            "| 31 | 3600 | 12960000 |  0.25  |\n",
            "| 32 | 9600 | 92160000 |  1.0   |\n",
            "| 33 | 1600 | 2560000  |  0.0   |\n",
            "| 34 | 5600 | 31360000 |  0.5   |\n",
            "| 35 | 3600 | 12960000 |  0.25  |\n",
            "| 36 | 9600 | 92160000 |  1.0   |\n",
            "+----+------+----------+--------+\n",
            "Ciclo de vida: 4\n"
          ]
        }
      ]
    }
  ]
}