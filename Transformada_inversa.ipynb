{
  "nbformat": 4,
  "nbformat_minor": 0,
  "metadata": {
    "colab": {
      "provenance": [],
      "authorship_tag": "ABX9TyNFopfOJOGsUcmYZDLiH+UV",
      "include_colab_link": true
    },
    "kernelspec": {
      "name": "python3",
      "display_name": "Python 3"
    },
    "language_info": {
      "name": "python"
    }
  },
  "cells": [
    {
      "cell_type": "markdown",
      "metadata": {
        "id": "view-in-github",
        "colab_type": "text"
      },
      "source": [
        "<a href=\"https://colab.research.google.com/github/ClementeGarcia/Simulaci-n-1/blob/main/Transformada_inversa.ipynb\" target=\"_parent\"><img src=\"https://colab.research.google.com/assets/colab-badge.svg\" alt=\"Open In Colab\"/></a>"
      ]
    },
    {
      "cell_type": "markdown",
      "source": [
        "#Método de la transformada inversa\n",
        "Usando la distribución acumulada\n",
        "Pasos:\n",
        "\n",
        "1) Dado $f(x)$, calculamos\n",
        "\n",
        "$$ F(x) = \\int_{-\\infty}^{\\infty}f(\\xi)d\\xi$$\n",
        "\n",
        "2) Generar $R \\backsim  U(0,1)$\n",
        "\n",
        "$$F(x) = R$$\n",
        "\n",
        "para obtener\n",
        "\n",
        "$$x = F^{-1}(R)$$\n",
        "\n",
        "\n",
        "##Distribución triangular\n",
        "\n",
        "La distribución triangular es una distribución de probabilidad continua con una función de densidad en forma de triángulo.\n",
        "\n",
        "Donde:\n",
        "\n",
        "$$f(x) =\n",
        "\\begin{cases}\n",
        "\\frac{2(x - a)}{(c - a)(b - a)} & \\text{si } a \\leq x \\leq b, \\\\[10pt]\n",
        "\\frac{-2(x - c)}{(c-a)(c - b)} & \\text{si } b < x \\leq c, \\\\[10pt]\n",
        "\\end{cases} $$\n",
        "\n",
        "\n",
        "Ahora obteniendo la acumulada\n",
        "\n",
        "$$\n",
        "F(x) =\n",
        "\\begin{cases}\n",
        "\\frac{(x - a)^2}{(b - a)(c - a)} & \\text{si } a \\leq x \\leq c, \\\\[10pt]\n",
        "1 - \\frac{(b - x)^2}{(b - a)(b - c)} & \\text{si } c \\leq x \\leq b, \\\\\n",
        "\\end{cases}$$\n",
        "\n",
        "Donde\n",
        "\n",
        "$ x = F^{-1}(R)$\n",
        "\n",
        "\n",
        "\n",
        "$$\n",
        "\\begin{cases}\n",
        "a + \\sqrt{R(b-a)(c-a)} & \\text{si } R \\leq \\frac{b-a}{c-a} \\\\[10pt]\n",
        "c - \\sqrt{(1-R)(c-b)(c-a)} & \\text{otro caso }  \\\\\n",
        "\\end{cases}$$\n",
        "\n",
        "\n",
        "Los valores a utilizar serán:\n",
        "\n",
        "a = 1\n",
        "\n",
        "b = 3\n",
        "\n",
        "c = 5"
      ],
      "metadata": {
        "id": "ASYcSqeMqrxA"
      }
    },
    {
      "cell_type": "code",
      "execution_count": 1,
      "metadata": {
        "id": "T-r5Ic6-vGCp"
      },
      "outputs": [],
      "source": [
        "import random as rd\n",
        "import matplotlib.pyplot as plt\n",
        "import numpy as np"
      ]
    },
    {
      "cell_type": "code",
      "source": [
        "def tri(n):\n",
        "  #Inicializar una lista vacía para alamacener los números generados\n",
        "  x = []\n",
        "  for i in range(n):\n",
        "    #Se genera un número aleatorio uniforme entre 0 y 1\n",
        "    R = rd.random()\n",
        "    #Si R es menor que 0.5, use la primera transforamción inversa\n",
        "    if  R <0.5:\n",
        "      x.append(np.sqrt(8*R)+1)\n",
        "    else:\n",
        "      x.append(5 - np.sqrt((1-R)*8))\n",
        "      #Retora la lista con los números generados\n",
        "  return x"
      ],
      "metadata": {
        "id": "3v_WdLoIvyl1"
      },
      "execution_count": 2,
      "outputs": []
    },
    {
      "cell_type": "code",
      "source": [
        "a = tri(100000) #Se generan 100,000 npumeros aleatorios con distribución triangular"
      ],
      "metadata": {
        "id": "Ify-bI6Mxcpm"
      },
      "execution_count": 3,
      "outputs": []
    },
    {
      "cell_type": "code",
      "source": [
        "plt.hist(a, bins=200) #Histograma de una distribución triangular\n",
        "plt.title(\"Histograma de una Distribución Triangular\")\n",
        "plt.xlabel(\"Valores generados (entre 1 y 5)\")\n",
        "plt.ylabel(\"Densidad de probabilidad\")\n",
        "plt.grid(True, linestyle='--', alpha=0.5)"
      ],
      "metadata": {
        "colab": {
          "base_uri": "https://localhost:8080/",
          "height": 472
        },
        "id": "F0Nlh4BExhn6",
        "outputId": "ca51a717-df59-4656-bff5-67b48328406e"
      },
      "execution_count": 10,
      "outputs": [
        {
          "output_type": "display_data",
          "data": {
            "text/plain": [
              "<Figure size 640x480 with 1 Axes>"
            ],
            "image/png": "[encoded data removed]"
          },
          "metadata": {}
        }
      ]
    },
    {
      "cell_type": "markdown",
      "source": [
        "#Media\n",
        "Calculando la media teórica tenemos que:\n",
        "$$\n",
        "\\mu=E[X]=\\int_a^c x\\,f(x)\\,dx.\n",
        "$$\n",
        "\n",
        "$$\n",
        "\\mu=\\frac{a+b+c}{3} .\n",
        "$$\n",
        "Sustituyendo los valores donde a = 1, b = 3 y c = 5 tenemos  que\n",
        "\n",
        "$$\n",
        "\\mu=\\frac{1+3+5}{3} = 3.\n",
        "$$"
      ],
      "metadata": {
        "id": "iRE_QJwhzjL0"
      }
    },
    {
      "cell_type": "code",
      "source": [
        "np.mean(a) #Calculamos la media simulada"
      ],
      "metadata": {
        "colab": {
          "base_uri": "https://localhost:8080/"
        },
        "id": "p7GvODQnSR1t",
        "outputId": "f6be64f6-ec4b-4e77-ec33-b0ecfa322d9c"
      },
      "execution_count": 5,
      "outputs": [
        {
          "output_type": "execute_result",
          "data": {
            "text/plain": [
              "np.float64(3.0005178858613504)"
            ]
          },
          "metadata": {},
          "execution_count": 5
        }
      ]
    },
    {
      "cell_type": "markdown",
      "source": [
        "#Varianza\n",
        "\n",
        "Calculando la varianza teórica:\n",
        "\n",
        "$$\n",
        "\\operatorname{Var}(X)=E[X^2]-\\big(E[X]\\big)^2.\n",
        "$$\n",
        "\n",
        "$$\n",
        "E[X^2]=\\int_a^c x^2 f(x)\\,dx = I_{1}^*+I_{2}^*\n",
        "$$\n",
        "Por lo que realizando las operaciones correspondientes llegamos a que\n",
        "\n",
        "$$\n",
        "\\operatorname{Var}(X)=\\frac{1^2+3^2+5^2-(1)(3)-(1)(5)-(3)(5)}{18} = \\frac{2}{3} = 0.66666667\n",
        "$$\n"
      ],
      "metadata": {
        "id": "5of-he2g1Z7R"
      }
    },
    {
      "cell_type": "code",
      "source": [
        "np.var(a) #Calculamos la varianza simulada"
      ],
      "metadata": {
        "colab": {
          "base_uri": "https://localhost:8080/"
        },
        "id": "drATS5CDSXaB",
        "outputId": "4abe191c-8cca-4ba8-c712-3dfd36af7591"
      },
      "execution_count": 6,
      "outputs": [
        {
          "output_type": "execute_result",
          "data": {
            "text/plain": [
              "np.float64(0.6684296180937167)"
            ]
          },
          "metadata": {},
          "execution_count": 6
        }
      ]
    },
    {
      "cell_type": "code",
      "source": [
        "np.std(a) #Calculamos la desviación enstándar simulada"
      ],
      "metadata": {
        "colab": {
          "base_uri": "https://localhost:8080/"
        },
        "id": "jaFqCz-nokLL",
        "outputId": "9a47e3d5-bfd8-4510-b5ee-85b22f18d256"
      },
      "execution_count": 8,
      "outputs": [
        {
          "output_type": "execute_result",
          "data": {
            "text/plain": [
              "np.float64(0.8175754510097014)"
            ]
          },
          "metadata": {},
          "execution_count": 8
        }
      ]
    }
  ]
}