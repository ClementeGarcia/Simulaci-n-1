{
  "nbformat": 4,
  "nbformat_minor": 0,
  "metadata": {
    "colab": {
      "provenance": [],
      "authorship_tag": "ABX9TyP+sEOyWH9/sDXXCBYQjMb7",
      "include_colab_link": true
    },
    "kernelspec": {
      "name": "python3",
      "display_name": "Python 3"
    },
    "language_info": {
      "name": "python"
    }
  },
  "cells": [
    {
      "cell_type": "markdown",
      "metadata": {
        "id": "view-in-github",
        "colab_type": "text"
      },
      "source": [
        "<a href=\"https://colab.research.google.com/github/ClementeGarcia/Simulaci-n-1/blob/main/Prueba_Kolmogorov.ipynb\" target=\"_parent\"><img src=\"https://colab.research.google.com/assets/colab-badge.svg\" alt=\"Open In Colab\"/></a>"
      ]
    },
    {
      "cell_type": "markdown",
      "source": [
        "**Prueba de bondad de ajuste **\n",
        "\n",
        "Prueba Kolgomorov - Smirnov\n",
        "\n",
        "Es recomendable para $r_i$, $n<20$\n",
        "\n",
        "1. Ordenar de menora a mayor los números del conjuto $r_i$\n",
        "\n",
        "2. Determinar los valores de:\n",
        "\n",
        " $\\max\\limits_{1\\leq i\\leq n}\\Big|\\frac{i}{n} - r_i\\Big|$\n",
        "\n",
        "  $\\max\\limits_{1\\leq i\\leq n}\\Big|r_i - \\frac{i-1}{n} \\Big|$\n",
        "\n",
        "  $D = \\max(D^+,D^-)$\n",
        "\n",
        "3. Determinar el valor crítico $D_{\\alpha,n}$ de acuerdo con la tabla de valores críticos de Kolgomorov para un grado de confianza $\\alpha$ y según el tamaño de la muestra n\n",
        "\n",
        "4. Si el valor de D es mayor que el valor crítico $D_{\\alpha,n}$ se concluye que los números del conjunto $r_i$ no siguen una distribución uniforme; de lo contrario se dice que no se ha detectado diferencia significativa entre la distribución de los números del conjunto $r_i$ y la distribución uniforme\n",
        "\n",
        "\n"
      ],
      "metadata": {
        "id": "jd8FAazvATCG"
      }
    },
    {
      "cell_type": "code",
      "source": [
        "import random as rnd\n",
        "import numpy as np\n",
        "from prettytable import PrettyTable\n",
        "\n",
        "def numalea(n):\n",
        "    numal = [0.048, 0.926, 0.368, 0.787, 0.298, 0.591, 0.007, 0.437, 0.594, 0.199,\n",
        "             0.478, 0.551, 0.178, 0.086, 0.157, 0.166, 0.362, 0.411, 0.951, 0.401,\n",
        "             0.932, 0.533, 0.545, 0.772, 0.631]\n",
        "    numal.sort()\n",
        "    numal = np.array(numal)\n",
        "    return numal\n",
        "\n",
        "def Dplusminus(n, numal):\n",
        "    numalcopia = numal.copy()\n",
        "    valoresmas = []\n",
        "    valoresmenos = []\n",
        "\n",
        "    indices = np.arange(n + 1)\n",
        "    indices = indices[1:]\n",
        "    for i in indices:\n",
        "        valoresmas.append((i / n) - numalcopia[i - 1])\n",
        "        valoresmenos.append(numal[i - 1] - ((i - 1) / n))\n",
        "    valoresmas = np.array(valoresmas)\n",
        "    valoresmenos = np.array(valoresmenos)\n",
        "\n",
        "    Dmas = np.amax(valoresmas)\n",
        "    Dmenos = np.amax(valoresmenos)\n",
        "    return Dmas, Dmenos, valoresmas, valoresmenos\n",
        "\n",
        "n = 25\n",
        "numal = numalea(n)\n",
        "Dmas, Dmenos, valoresmas, valoresmenos = Dplusminus(n, numal)\n",
        "D = max(Dmas, Dmenos)\n",
        "\n",
        "indices = np.arange(n + 1)\n",
        "indices = indices[1:]\n",
        "table = PrettyTable()\n",
        "table.add_column(\"i\", indices)\n",
        "table.add_column(\"xi\", numal)\n",
        "table.add_column(\"D+\", valoresmas)\n",
        "table.add_column(\"D-\", valoresmenos)\n",
        "print(table)\n",
        "\n",
        "d = 0.169\n",
        "print(\"El valor de D es:\", D)\n",
        "if D < d:\n",
        "    print(\"Se acepta la hipótesis nula.\")\n",
        "else:\n",
        "    print(\"Se rechaza la hipótesis nula por lo que no se distribuye U(0,1).\")"
      ],
      "metadata": {
        "colab": {
          "base_uri": "https://localhost:8080/"
        },
        "id": "NRU2XTyOGhsg",
        "outputId": "9b3bf31b-be9f-48d2-bb1f-08233221b1ac"
      },
      "execution_count": 3,
      "outputs": [
        {
          "output_type": "stream",
          "name": "stdout",
          "text": [
            "+----+-------+------------------------+-----------------------+\n",
            "| i  |   xi  |           D+           |           D-          |\n",
            "+----+-------+------------------------+-----------------------+\n",
            "| 1  | 0.007 |         0.033          |         0.007         |\n",
            "| 2  | 0.048 |         0.032          |         0.008         |\n",
            "| 3  | 0.086 |         0.034          | 0.0059999999999999915 |\n",
            "| 4  | 0.157 | 0.0030000000000000027  |  0.037000000000000005 |\n",
            "| 5  | 0.166 |         0.034          |  0.006000000000000005 |\n",
            "| 6  | 0.178 |         0.062          |  -0.02200000000000002 |\n",
            "| 7  | 0.199 |  0.08100000000000002   |  -0.04099999999999998 |\n",
            "| 8  | 0.298 |  0.02200000000000002   |  0.01799999999999996  |\n",
            "| 9  | 0.362 | -0.0020000000000000018 |  0.04199999999999998  |\n",
            "| 10 | 0.368 |  0.03200000000000003   |  0.008000000000000007 |\n",
            "| 11 | 0.401 |  0.03899999999999998   | 0.0010000000000000009 |\n",
            "| 12 | 0.411 |         0.069          | -0.029000000000000026 |\n",
            "| 13 | 0.437 |  0.08300000000000002   |  -0.04299999999999998 |\n",
            "| 14 | 0.478 |  0.08200000000000007   |  -0.04200000000000004 |\n",
            "| 15 | 0.533 |  0.06699999999999995   | -0.027000000000000024 |\n",
            "| 16 | 0.545 |  0.09499999999999997   |  -0.05499999999999994 |\n",
            "| 17 | 0.551 |         0.129          |  -0.08899999999999997 |\n",
            "| 18 | 0.591 |         0.129          |  -0.08900000000000008 |\n",
            "| 19 | 0.594 |  0.16600000000000004   |         -0.126        |\n",
            "| 20 | 0.631 |  0.16900000000000004   |         -0.129        |\n",
            "| 21 | 0.772 |  0.06799999999999995   | -0.028000000000000025 |\n",
            "| 22 | 0.787 |  0.09299999999999997   | -0.052999999999999936 |\n",
            "| 23 | 0.926 | -0.006000000000000005  |  0.04600000000000004  |\n",
            "| 24 | 0.932 |  0.027999999999999914  |  0.01200000000000001  |\n",
            "| 25 | 0.951 |  0.049000000000000044  | -0.009000000000000008 |\n",
            "+----+-------+------------------------+-----------------------+\n",
            "El valor de D es: 0.16900000000000004\n",
            "Se rechaza la hipótesis nula por lo que no se distribuye U(0,1).\n"
          ]
        }
      ]
    }
  ]
}